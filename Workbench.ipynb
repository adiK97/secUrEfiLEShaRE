{
 "cells": [
  {
   "cell_type": "code",
   "execution_count": null,
   "metadata": {},
   "outputs": [],
   "source": [
    "from http.server import HTTPServer, SimpleHTTPRequestHandler\n",
    "\n",
    "httpd = HTTPServer(('localhost', 8000), SimpleHTTPRequestHandler)\n",
    "httpd.serve_forever()"
   ]
  },
  {
   "cell_type": "code",
   "execution_count": 21,
   "metadata": {},
   "outputs": [
    {
     "name": "stdout",
     "output_type": "stream",
     "text": [
      "Added User! asdf\n",
      "tes\n",
      "b'$2b$12$aStL0v84Tbb3xUuc0cT3refsjefHPQOjL2UkBmRIpldKd1nerxz9K'\n",
      "Login Success!!\n"
     ]
    }
   ],
   "source": [
    "import bcrypt\n",
    "from basicauth import encode\n",
    "import json\n",
    "\n",
    "resource_file = \"ftpServer/passwords.json\"\n",
    "def encode(username,password):\n",
    "    return (bcrypt.hashpw((username+password).encode('utf-8'), bcrypt.gensalt())).decode('utf-8')\n",
    "\n",
    "def add_user(username,password):\n",
    "    with open(\"ftpServer/passwords.json\", 'r') as openfile:\n",
    "        passw  = json.load(openfile)\n",
    "\n",
    "    if username in passw.keys():\n",
    "        print(\"user already exists\")\n",
    "        return\n",
    "    else:\n",
    "        passw[username] = str(encode(username,password))\n",
    "        with open(\"ftpServer/passwords.json\", \"w\") as outfile:\n",
    "            json.dump(passw, outfile)\n",
    "        return username\n",
    "\n",
    "def check_login(username,password):\n",
    "    with open(\"ftpServer/passwords.json\", 'r') as openfile:\n",
    "        passw  = json.load(openfile)\n",
    "    if username in passw.keys():\n",
    "        check =(username+password).encode('utf-8')\n",
    "        test = passw[username].encode('utf-8')\n",
    "        print(\"tes\")\n",
    "        print(test)\n",
    "        if bcrypt.checkpw(check, test):\n",
    "\n",
    "            return username\n",
    "    return\n",
    "\n",
    "def create_username():\n",
    "     try: \n",
    "         username = add_user(input(\"enter username:\"),input(\"enter password:\"))\n",
    "         print(\"Added User! %s\"%username)\n",
    "     except Exception as e:\n",
    "         print(\"Failed to add user %s! ... user already exists??\"%username)\n",
    "\n",
    "def login():\n",
    "     if check_login(input(\"enter username:\"),input(\"enter password:\")):\n",
    "        print(\"Login Success!!\")\n",
    "     else:\n",
    "        print(\"there was a problem logging in\")\n",
    "\n",
    "# while True:\n",
    "#     {'c':create_username,'l':login}.get(input(\"(c)reate user\\n(l)ogin\\n------------\\n>\").lower(),login)()\n",
    "create_username()\n",
    "login()"
   ]
  }
 ],
 "metadata": {
  "kernelspec": {
   "display_name": "Python 3.10.8 64-bit",
   "language": "python",
   "name": "python3"
  },
  "language_info": {
   "codemirror_mode": {
    "name": "ipython",
    "version": 3
   },
   "file_extension": ".py",
   "mimetype": "text/x-python",
   "name": "python",
   "nbconvert_exporter": "python",
   "pygments_lexer": "ipython3",
   "version": "3.10.8"
  },
  "orig_nbformat": 4,
  "vscode": {
   "interpreter": {
    "hash": "0cd3ab2226931a80e9a9013b398bb83530c89e5153a9d56e43e1f3844435be35"
   }
  }
 },
 "nbformat": 4,
 "nbformat_minor": 2
}
